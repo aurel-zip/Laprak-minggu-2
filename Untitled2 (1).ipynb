{
  "nbformat": 4,
  "nbformat_minor": 0,
  "metadata": {
    "colab": {
      "provenance": []
    },
    "kernelspec": {
      "name": "python3",
      "display_name": "Python 3"
    },
    "language_info": {
      "name": "python"
    }
  },
  "cells": [
    {
      "cell_type": "markdown",
      "source": [
        "# **Weekly exercise 1**"
      ],
      "metadata": {
        "id": "GTtSNyLCCIdM"
      }
    },
    {
      "cell_type": "code",
      "source": [
        "panjang = 20.5\n",
        "lebar = 25\n",
        "tinggi = 10\n",
        "\n",
        "keliling = 2 * (panjang + lebar)\n",
        "luas = panjang * lebar\n",
        "volume = panjang * lebar * tinggi\n",
        "\n",
        "print (\"Panjang =\", panjang)\n",
        "print (\"Lebar =\", lebar)\n",
        "print (\"Tinggi =\", tinggi)\n",
        "print (\"Keliling =\", keliling)\n",
        "print (\"Volume =\", volume)\n"
      ],
      "metadata": {
        "colab": {
          "base_uri": "https://localhost:8080/"
        },
        "id": "g7BWnDtGCMgk",
        "outputId": "0ef8b928-2ec5-4955-ce39-cd47c7b29f11"
      },
      "execution_count": null,
      "outputs": [
        {
          "output_type": "stream",
          "name": "stdout",
          "text": [
            "Panjang = 20.5\n",
            "Lebar = 25\n",
            "Tinggi = 10\n",
            "Keliling = 91.0\n",
            "Volume = 5125.0\n"
          ]
        }
      ]
    },
    {
      "cell_type": "markdown",
      "source": [
        "# **Weekly Exercise 2**"
      ],
      "metadata": {
        "id": "OcfAS_7YIq2m"
      }
    },
    {
      "cell_type": "code",
      "execution_count": null,
      "metadata": {
        "id": "8mjVfioPBzqJ",
        "colab": {
          "base_uri": "https://localhost:8080/"
        },
        "outputId": "df8e3d03-08e0-4a25-9cf6-b4e3bb69a53d"
      },
      "outputs": [
        {
          "output_type": "execute_result",
          "data": {
            "text/plain": [
              "80.0"
            ]
          },
          "metadata": {},
          "execution_count": 3
        }
      ],
      "source": [
        "ratarata_shafira = (85 + 75) /2\n",
        "ratarata_shafira"
      ]
    },
    {
      "cell_type": "code",
      "source": [
        "nilai_hanif_andi_semua_matkul = 75 + 90 + 70 + 75\n",
        "nilai_hanif_andi_semua_matkul"
      ],
      "metadata": {
        "colab": {
          "base_uri": "https://localhost:8080/"
        },
        "id": "JRwszTk7aSTH",
        "outputId": "163a3360-035e-4bbf-a5cf-cff9eea46bb1"
      },
      "execution_count": null,
      "outputs": [
        {
          "output_type": "execute_result",
          "data": {
            "text/plain": [
              "310"
            ]
          },
          "metadata": {},
          "execution_count": 4
        }
      ]
    },
    {
      "cell_type": "code",
      "source": [
        "ratarata_kalkulus_wdy_dhnr_hkm_nd = (85 + 85 + 80 + 95) / 4\n",
        "ratarata_kalkulus_wdy_dhnr_hkm_nd"
      ],
      "metadata": {
        "colab": {
          "base_uri": "https://localhost:8080/"
        },
        "id": "MUted9xccSoa",
        "outputId": "a19c7b8c-b390-4f29-a1c0-d28cdfbea22a"
      },
      "execution_count": null,
      "outputs": [
        {
          "output_type": "execute_result",
          "data": {
            "text/plain": [
              "86.25"
            ]
          },
          "metadata": {},
          "execution_count": 5
        }
      ]
    },
    {
      "cell_type": "code",
      "source": [
        "ratarata_statiska_wdy_dhnr_hkm_nd = (85 + 85 + 75 + 80) / 4\n",
        "ratarata_statiska_wdy_dhnr_hkm_nd"
      ],
      "metadata": {
        "colab": {
          "base_uri": "https://localhost:8080/"
        },
        "id": "PfY3fk6Bezpp",
        "outputId": "014ee37f-c41a-44ba-9fc4-d7125462e111"
      },
      "execution_count": null,
      "outputs": [
        {
          "output_type": "execute_result",
          "data": {
            "text/plain": [
              "81.25"
            ]
          },
          "metadata": {},
          "execution_count": 6
        }
      ]
    },
    {
      "cell_type": "code",
      "source": [
        "ratarata_kalkulus_semua_mhs = (85 + 80 + 75 + 95 + 85 + 75 + 70 + 85 + 80) / 9\n",
        "ratarata_kalkulus_semua_mhs"
      ],
      "metadata": {
        "colab": {
          "base_uri": "https://localhost:8080/"
        },
        "id": "L1FmF2zdfH2v",
        "outputId": "4b370e23-17a5-437c-8b50-5676d69feeac"
      },
      "execution_count": null,
      "outputs": [
        {
          "output_type": "execute_result",
          "data": {
            "text/plain": [
              "81.11111111111111"
            ]
          },
          "metadata": {},
          "execution_count": 7
        }
      ]
    },
    {
      "cell_type": "code",
      "source": [
        "ratarata_statiska_semua_mhs = (75 + 90 + 80 + 80 + 85 + 90 + 75 + 85 + 75) / 9\n",
        "ratarata_statiska_semua_mhs"
      ],
      "metadata": {
        "colab": {
          "base_uri": "https://localhost:8080/"
        },
        "id": "XXqBhAvyfkGm",
        "outputId": "4abe6663-61ad-4b02-8ee4-e143092af8ba"
      },
      "execution_count": null,
      "outputs": [
        {
          "output_type": "execute_result",
          "data": {
            "text/plain": [
              "81.66666666666667"
            ]
          },
          "metadata": {},
          "execution_count": 9
        }
      ]
    },
    {
      "cell_type": "code",
      "source": [
        "print('1. Rata-rata nilai shafira =', ratarata_shafira)\n",
        "print('2. Jumlah nilai Hanif dan Andi untuk semua mata kuliah', nilai_hanif_andi_semua_matkul)\n",
        "print('3. Rata-rata nilai kalkulus Widya, Dhanar, Hikma, dan Nedia ', ratarata_kalkulus_wdy_dhnr_hkm_nd)\n",
        "print('   Rata-rata nilai statiska Widya, Dhanar, Hikma, dan Nedia ', ratarata_statiska_wdy_dhnr_hkm_nd)\n",
        "print('4. Rata-rata nilai mata kuliah kalkulus untuk semua mahasiswa', ratarata_kalkulus_semua_mhs)\n",
        "print('5. rata-rata nilai mata kuliah statiska untuk semua mahasiswa', ratarata_statiska_semua_mhs)"
      ],
      "metadata": {
        "colab": {
          "base_uri": "https://localhost:8080/"
        },
        "id": "idbhQRLcgg_U",
        "outputId": "a0dc0da0-8875-42ab-90e4-c5d9066e783c"
      },
      "execution_count": null,
      "outputs": [
        {
          "output_type": "stream",
          "name": "stdout",
          "text": [
            "1. Rata-rata nilai shafira = 80.0\n",
            "2. Jumlah nilai Hanif dan Andi untuk semua mata kuliah 310\n",
            "3. Rata-rata nilai kalkulus Widya, Dhanar, Hikma, dan Nedia  86.25\n",
            "   Rata-rata nilai statiska Widya, Dhanar, Hikma, dan Nedia  81.25\n",
            "4. Rata-rata nilai mata kuliah kalkulus untuk semua mahasiswa 81.11111111111111\n",
            "5. rata-rata nilai mata kuliah statiska untuk semua mahasiswa 81.66666666666667\n"
          ]
        }
      ]
    },
    {
      "cell_type": "markdown",
      "source": [
        "# **Weekly Exercise 3**"
      ],
      "metadata": {
        "id": "_Z5xt-nhlKmj"
      }
    },
    {
      "cell_type": "code",
      "source": [
        "gaji_bln_agst = (31-3) * 8 * 30000\n",
        "gaji_bln_agst"
      ],
      "metadata": {
        "colab": {
          "base_uri": "https://localhost:8080/"
        },
        "id": "ID7hckoPYivh",
        "outputId": "1e93bbcb-6c2c-4d9f-bbca-2fca0b4e225c"
      },
      "execution_count": 17,
      "outputs": [
        {
          "output_type": "execute_result",
          "data": {
            "text/plain": [
              "6720000"
            ]
          },
          "metadata": {},
          "execution_count": 17
        }
      ]
    },
    {
      "cell_type": "code",
      "source": [
        "tunjangan = gaji_bln_agst * 0.1\n",
        "tunjangan"
      ],
      "metadata": {
        "colab": {
          "base_uri": "https://localhost:8080/"
        },
        "id": "MF0SWe3yauXa",
        "outputId": "c7997365-48b6-45c0-ba33-f1450e96ab72"
      },
      "execution_count": 21,
      "outputs": [
        {
          "output_type": "execute_result",
          "data": {
            "text/plain": [
              "672000.0"
            ]
          },
          "metadata": {},
          "execution_count": 21
        }
      ]
    },
    {
      "cell_type": "code",
      "source": [
        "upah_lembur = 5 * 10000\n",
        "upah_lembur"
      ],
      "metadata": {
        "colab": {
          "base_uri": "https://localhost:8080/"
        },
        "id": "M4xhwJV-dsq7",
        "outputId": "97e58a98-5c98-48d1-986e-801e751e2433"
      },
      "execution_count": 22,
      "outputs": [
        {
          "output_type": "execute_result",
          "data": {
            "text/plain": [
              "50000"
            ]
          },
          "metadata": {},
          "execution_count": 22
        }
      ]
    },
    {
      "cell_type": "code",
      "source": [
        "total_gaji = gaji_bln_agst + tunjangan + upah_lembur\n",
        "total_gaji"
      ],
      "metadata": {
        "colab": {
          "base_uri": "https://localhost:8080/"
        },
        "id": "iB_amGwvejAa",
        "outputId": "9a665574-a113-4c76-be39-ad5d332f7573"
      },
      "execution_count": 25,
      "outputs": [
        {
          "output_type": "execute_result",
          "data": {
            "text/plain": [
              "7442000.0"
            ]
          },
          "metadata": {},
          "execution_count": 25
        }
      ]
    },
    {
      "cell_type": "code",
      "source": [
        "print('1. Gaji bulan agustus jika tidak masuk 3 hari =', gaji_bln_agst)\n",
        "print('2. Jumlah tunjangan yang diterima bulan agustua =', tunjangan)\n",
        "print('3. Gaji total yang diterima pada bulan agustus =', total_gaji)"
      ],
      "metadata": {
        "colab": {
          "base_uri": "https://localhost:8080/"
        },
        "id": "zNavkiw2WvMU",
        "outputId": "b73c7b7f-1a70-45f3-dac1-5cb0385f9fb5"
      },
      "execution_count": 27,
      "outputs": [
        {
          "output_type": "stream",
          "name": "stdout",
          "text": [
            "1. Gaji bulan agustus jika tidak masuk 3 hari = 6720000\n",
            "2. Jumlah tunjangan yang diterima bulan agustua = 672000.0\n",
            "3. Gaji total yang diterima pada bulan agustus = 7442000.0\n"
          ]
        }
      ]
    }
  ]
}